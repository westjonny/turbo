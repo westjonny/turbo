{
 "cells": [
  {
   "cell_type": "code",
   "execution_count": null,
   "metadata": {},
   "outputs": [],
   "source": [
    "# Start of Python Classes \n",
    "#\n",
    "# Using this as a way to refresh my memory on Python, firstly for analytics skills, then for more complex Data Engineering focused tasks. \n",
    "#\n",
    "# Importing Pandas, then printing a success message \n",
    "import pandas as pd\n",
    "print ('Import success!')"
   ]
  },
  {
   "cell_type": "code",
   "execution_count": 19,
   "metadata": {},
   "outputs": [
    {
     "data": {
      "text/html": [
       "<div>\n",
       "<style scoped>\n",
       "    .dataframe tbody tr th:only-of-type {\n",
       "        vertical-align: middle;\n",
       "    }\n",
       "\n",
       "    .dataframe tbody tr th {\n",
       "        vertical-align: top;\n",
       "    }\n",
       "\n",
       "    .dataframe thead th {\n",
       "        text-align: right;\n",
       "    }\n",
       "</style>\n",
       "<table border=\"1\" class=\"dataframe\">\n",
       "  <thead>\n",
       "    <tr style=\"text-align: right;\">\n",
       "      <th></th>\n",
       "      <th>player_name</th>\n",
       "      <th>team</th>\n",
       "      <th>pts</th>\n",
       "      <th>rbs</th>\n",
       "      <th>ast</th>\n",
       "    </tr>\n",
       "    <tr>\n",
       "      <th>player_id</th>\n",
       "      <th></th>\n",
       "      <th></th>\n",
       "      <th></th>\n",
       "      <th></th>\n",
       "      <th></th>\n",
       "    </tr>\n",
       "  </thead>\n",
       "  <tbody>\n",
       "    <tr>\n",
       "      <th>1234</th>\n",
       "      <td>Donovan Mitchell</td>\n",
       "      <td>UTA</td>\n",
       "      <td>31.2</td>\n",
       "      <td>9</td>\n",
       "      <td>10</td>\n",
       "    </tr>\n",
       "    <tr>\n",
       "      <th>5678</th>\n",
       "      <td>Nikola Jokic</td>\n",
       "      <td>DEN</td>\n",
       "      <td>30</td>\n",
       "      <td>7</td>\n",
       "      <td>15</td>\n",
       "    </tr>\n",
       "    <tr>\n",
       "      <th>9012</th>\n",
       "      <td>Steven Curry</td>\n",
       "      <td>GSW</td>\n",
       "      <td>28</td>\n",
       "      <td>2</td>\n",
       "      <td>10</td>\n",
       "    </tr>\n",
       "    <tr>\n",
       "      <th>3456</th>\n",
       "      <td>Devin Booker</td>\n",
       "      <td>PHX</td>\n",
       "      <td>19</td>\n",
       "      <td>1</td>\n",
       "      <td>9</td>\n",
       "    </tr>\n",
       "  </tbody>\n",
       "</table>\n",
       "</div>"
      ],
      "text/plain": [
       "                player_name team   pts rbs ast\n",
       "player_id                                     \n",
       "1234       Donovan Mitchell  UTA  31.2   9  10\n",
       "5678           Nikola Jokic  DEN    30   7  15\n",
       "9012           Steven Curry  GSW    28   2  10\n",
       "3456           Devin Booker  PHX    19   1   9"
      ]
     },
     "execution_count": 19,
     "metadata": {},
     "output_type": "execute_result"
    }
   ],
   "source": [
    "bb_df = pd.DataFrame(columns=['player_id', 'player_name', 'team', 'pts', 'rbs', 'ast'])\n",
    "bb_df['player_id'] = ['1234','5678','9012', '3456']\n",
    "bb_df['player_name'] = ['Donovan Mitchell', 'Nikola Jokic', 'Steven Curry', 'Devin Booker']\n",
    "bb_df['team'] = ['UTA', 'DEN', 'GSW', 'PHX']\n",
    "bb_df['pts'] = ['31.2', '30', '28', '19']\n",
    "bb_df['rbs'] = ['9', '7', '2', '1']\n",
    "bb_df['ast'] = ['10', '15', '10', '9']\n",
    "\n",
    "bb_df_si = bb_df.set_index('player_id')\n",
    "\n",
    "bb_df_si"
   ]
  },
  {
   "cell_type": "code",
   "execution_count": 20,
   "metadata": {},
   "outputs": [
    {
     "name": "stdout",
     "output_type": "stream",
     "text": [
      "                player_name team   pts rbs ast\n",
      "player_id                                     \n",
      "1234       Donovan Mitchell  UTA  31.2   9  10\n",
      "5678           Nikola Jokic  DEN    30   7  15\n",
      "9012           Steven Curry  GSW    28   2  10\n",
      "3456           Devin Booker  PHX    19   1   9\n"
     ]
    }
   ],
   "source": [
    "print(bb_df_si)"
   ]
  },
  {
   "cell_type": "code",
   "execution_count": null,
   "metadata": {},
   "outputs": [],
   "source": []
  }
 ],
 "metadata": {
  "kernelspec": {
   "display_name": "python-env",
   "language": "python",
   "name": "python3"
  },
  "language_info": {
   "codemirror_mode": {
    "name": "ipython",
    "version": 3
   },
   "file_extension": ".py",
   "mimetype": "text/x-python",
   "name": "python",
   "nbconvert_exporter": "python",
   "pygments_lexer": "ipython3",
   "version": "3.10.5"
  },
  "orig_nbformat": 4
 },
 "nbformat": 4,
 "nbformat_minor": 2
}
